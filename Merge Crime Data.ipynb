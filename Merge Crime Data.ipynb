{
 "cells": [
  {
   "cell_type": "markdown",
   "metadata": {},
   "source": [
    "# Merge Crime data\n"
   ]
  },
  {
   "cell_type": "code",
   "execution_count": null,
   "metadata": {
    "collapsed": false
   },
   "outputs": [],
   "source": [
    "import pandas as pd \n",
    "import numpy as np\n",
    "import urllib2"
   ]
  },
  {
   "cell_type": "markdown",
   "metadata": {},
   "source": [
    "### Function to pull relevant data"
   ]
  },
  {
   "cell_type": "code",
   "execution_count": null,
   "metadata": {
    "collapsed": false
   },
   "outputs": [],
   "source": [
    "def get_data(city,startyear,endyear):\n",
    "    '''Function to get data from the github repo. city refers to the city of interest, startyear and\n",
    "    endyear are the years of data you want.'''\n",
    "    dd=[]\n",
    "    for x in np.arange(startyear,endyear+1):\n",
    "        url='https://raw.githubusercontent.com/Data4Democracy/usa-dashboard/master/'+str(city)+'/data/'+str(city)+'-'+str(x)+'-crime.csv'\n",
    "        try:\n",
    "            dd.append(pd.read_csv(url))\n",
    "        except urllib2.HTTPError, err: # We can get this error if the city or year data is absent\n",
    "            if err.code==404:\n",
    "                url='https://raw.githubusercontent.com/Data4Democracy/usa-dashboard/master/'+str(city)+'/'+str(city)+'-'+str(x)+'-crime.csv'\n",
    "                try:\n",
    "                    dd.append(pd.read_csv(url))\n",
    "                except urllib2.HTTPError, err:\n",
    "                    if err.code==404:\n",
    "                        print \"data for \" + str(city) + str(x)+ \" doesn't exist\"\n",
    "    data=pd.concat(dd)\n",
    "    data['city']=city\n",
    "    data['date']=pd.to_datetime(data['year'].astype(str)+'/'+data['month'].astype(str)+'/'+data['day'].astype(str))\n",
    "    return data\n",
    "    "
   ]
  },
  {
   "cell_type": "code",
   "execution_count": null,
   "metadata": {
    "collapsed": false
   },
   "outputs": [],
   "source": [
    "bal=get_data('bal', 2006,2016) # baltimore"
   ]
  },
  {
   "cell_type": "code",
   "execution_count": null,
   "metadata": {
    "collapsed": true
   },
   "outputs": [],
   "source": [
    "bal.rename(columns={'description':'crime_type'},inplace=True) #"
   ]
  },
  {
   "cell_type": "code",
   "execution_count": null,
   "metadata": {
    "collapsed": false
   },
   "outputs": [],
   "source": [
    "chi=get_data('chi',2006,2016) # Chicago"
   ]
  },
  {
   "cell_type": "code",
   "execution_count": null,
   "metadata": {
    "collapsed": true
   },
   "outputs": [],
   "source": [
    "chi.rename(columns={'primary_type':'crime_type'},inplace=True)"
   ]
  },
  {
   "cell_type": "code",
   "execution_count": null,
   "metadata": {
    "collapsed": false
   },
   "outputs": [],
   "source": [
    "nyc=get_data('nyc',2006,2016) # NYC"
   ]
  },
  {
   "cell_type": "code",
   "execution_count": null,
   "metadata": {
    "collapsed": true
   },
   "outputs": [],
   "source": [
    "nyc.rename(columns={'ofns_desc':'crime_type'},inplace=True) "
   ]
  },
  {
   "cell_type": "code",
   "execution_count": null,
   "metadata": {
    "collapsed": false
   },
   "outputs": [],
   "source": [
    "sea=get_data('sea',2005,2015) # Seattle "
   ]
  },
  {
   "cell_type": "code",
   "execution_count": null,
   "metadata": {
    "collapsed": false
   },
   "outputs": [],
   "source": [
    "df=pd.concat([nyc,sea,bal,chi],ignore_index=True) #Combine the data"
   ]
  },
  {
   "cell_type": "code",
   "execution_count": null,
   "metadata": {
    "collapsed": false
   },
   "outputs": [],
   "source": [
    "df['crime_type']=df.crime_type.str.lower() #make all entries lower case. This makes manipulation easy"
   ]
  },
  {
   "cell_type": "code",
   "execution_count": null,
   "metadata": {
    "collapsed": true
   },
   "outputs": [],
   "source": [
    "def normalize_name(name):\n",
    "    \"\"\"\n",
    "    Standardizes names to make for easier comparisons\n",
    "    \n",
    "    name: full name of a crime type can be in any format \n",
    "    \"\"\"\n",
    "    if \" and\" in name:\n",
    "        name = name.replace(' and ',' & ')\n",
    "    if \" codes\" in name:\n",
    "        name= name.replace(' codes',' code')\n",
    "    return name"
   ]
  },
  {
   "cell_type": "code",
   "execution_count": null,
   "metadata": {
    "collapsed": false
   },
   "outputs": [],
   "source": [
    "df['crime_type']=df['crime_type'].apply(normalize_name) # normalize the names of the crime types"
   ]
  },
  {
   "cell_type": "code",
   "execution_count": null,
   "metadata": {
    "collapsed": true
   },
   "outputs": [],
   "source": [
    "## Create standard categories based on FBI Uniform Crime Reporting\n",
    "\n",
    "ucr=[]\n",
    "for row in df['crime_type']:\n",
    "    if 'rape' in row:\n",
    "        ucr.append('rape')\n",
    "    elif 'robbery' in row:\n",
    "        ucr.append('robbery')\n",
    "    elif 'agg. assault' in row or 'aggravated assault' in row:\n",
    "        ucr.append('aggravated assault')\n",
    "    elif 'auto theft' in row or 'motor vehicle theft' in row or 'robbery - carjacking' in row:\n",
    "        ucr.append('motor vehicle theft')\n",
    "    elif 'arson' in row:\n",
    "        ucr.append('arson')\n",
    "    elif 'larceny' in row:\n",
    "        ucr.append('larceny')\n",
    "    elif 'burglar' in row:\n",
    "        ucr.append('burglary')\n",
    "    elif 'murder' in row:\n",
    "        ucr.append('murder & non-negl. manslaughter')\n",
    "    else:\n",
    "        ucr.append(None) # Crime reports that don't have an equivalent UCR category            "
   ]
  },
  {
   "cell_type": "code",
   "execution_count": null,
   "metadata": {
    "collapsed": true
   },
   "outputs": [],
   "source": [
    "df['ucr']=ucr"
   ]
  },
  {
   "cell_type": "code",
   "execution_count": null,
   "metadata": {
    "collapsed": true
   },
   "outputs": [],
   "source": []
  }
 ],
 "metadata": {
  "kernelspec": {
   "display_name": "Python 2",
   "language": "python",
   "name": "python2"
  },
  "language_info": {
   "codemirror_mode": {
    "name": "ipython",
    "version": 2
   },
   "file_extension": ".py",
   "mimetype": "text/x-python",
   "name": "python",
   "nbconvert_exporter": "python",
   "pygments_lexer": "ipython2",
   "version": "2.7.12"
  }
 },
 "nbformat": 4,
 "nbformat_minor": 0
}
